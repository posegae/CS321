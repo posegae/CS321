{
 "cells": [
  {
   "cell_type": "code",
   "execution_count": 1,
   "metadata": {},
   "outputs": [],
   "source": [
    "import numpy as np\n",
    "import pandas as pd"
   ]
  },
  {
   "cell_type": "code",
   "execution_count": 6,
   "metadata": {},
   "outputs": [],
   "source": [
    "from sklearn import tree\n",
    "from sklearn.metrics import *"
   ]
  },
  {
   "cell_type": "code",
   "execution_count": 4,
   "metadata": {},
   "outputs": [],
   "source": [
    "df = pd.read_csv('HW3_Data.txt', delimiter='\\t')\n",
    "# print(df)\n",
    "\n",
    "df['Location Type'] = df['Location Type'].map({'Office': 0, 'Warehouse': 1})\n",
    "\n",
    "train = df[:2800]\n",
    "test = df[-200:]\n",
    "# print(df['Location Type'])\n",
    "\n",
    "clf = tree.DecisionTreeClassifier()\n",
    "clf = clf.fit(train[['Distance_Feature', 'Speeding_Feature', 'Location Type']], train['OSHA'])"
   ]
  },
  {
   "cell_type": "code",
   "execution_count": 7,
   "metadata": {},
   "outputs": [
    {
     "name": "stdout",
     "output_type": "stream",
     "text": [
      "200\n",
      "191\n"
     ]
    },
    {
     "data": {
      "text/plain": [
       "array([[155,   0,   0],\n",
       "       [  1,  21,   0],\n",
       "       [  0,   0,  15]])"
      ]
     },
     "execution_count": 7,
     "metadata": {},
     "output_type": "execute_result"
    }
   ],
   "source": [
    "results = clf.predict(test[['Distance_Feature', 'Speeding_Feature', 'Location Type']])\n",
    "actual = test['OSHA']\n",
    "print(len(actual))\n",
    "tups = zip(results, actual)\n",
    "# print(list(tups))\n",
    "right = 0\n",
    "for tup in tups:\n",
    "    if tup[0] == tup[1]:\n",
    "        right += 1\n",
    "print(right)\n",
    "confusion_matrix(actual, results, labels=['Safe', 'Compliant', 'NonCompliant'])"
   ]
  },
  {
   "cell_type": "code",
   "execution_count": 3,
   "metadata": {},
   "outputs": [],
   "source": [
    "from sklearn.metrics import *"
   ]
  },
  {
   "cell_type": "code",
   "execution_count": 19,
   "metadata": {},
   "outputs": [
    {
     "name": "stdout",
     "output_type": "stream",
     "text": [
      "0.992659564394\n",
      "0.9925\n",
      "0.992537784299\n",
      "0.995007062147\n",
      "0.995\n",
      "0.994955471738\n",
      "0.990096636546\n",
      "0.99\n",
      "0.990033834586\n",
      "0.9586898353\n",
      "0.96\n",
      "0.958781225228\n",
      "0.989946718147\n",
      "0.99\n",
      "0.989955364807\n",
      "0.989947052315\n",
      "0.99\n",
      "0.989955490483\n",
      "0.98765200391\n",
      "0.9875\n",
      "0.987533952643\n",
      "0.980721153846\n",
      "0.965\n",
      "0.970068965517\n",
      "0.979709302326\n",
      "0.975\n",
      "0.97617008528\n",
      "0.964465968292\n",
      "0.965\n",
      "0.961203398012\n"
     ]
    }
   ],
   "source": [
    "def ten_fold_validation():\n",
    "    df = pd.read_csv('HW3_Data.txt', delimiter='\\t')\n",
    "\n",
    "    df['Location Type'] = df['Location Type'].map({'Office': 0, 'Warehouse': 1})\n",
    "\n",
    "    test_size = 400\n",
    "    start = 0\n",
    "    \n",
    "    stats = []\n",
    "    \n",
    "    for i in range(10):\n",
    "        test = df[start:start+test_size]\n",
    "        train = df[~df['HeatMiser_ID'].isin(test['HeatMiser_ID'])].dropna()\n",
    "        clf = tree.DecisionTreeClassifier()\n",
    "        clf = clf.fit(train[['Distance_Feature', 'Speeding_Feature', 'Location Type']], train['OSHA'])\n",
    "            \n",
    "        results = clf.predict(test[['Distance_Feature', 'Speeding_Feature', 'Location Type']])\n",
    "        actual = test['OSHA']\n",
    "        tups = zip(results, actual)\n",
    "        right = 0\n",
    "        for tup in tups:\n",
    "            if tup[0] == tup[1]:\n",
    "                right += 1\n",
    "        \n",
    "                \n",
    "        c_mat = confusion_matrix(actual, results, labels=['Safe', 'Compliant', 'NonCompliant'])\n",
    "        \n",
    "        # TODO: precision for Safe\n",
    "        # TODO: Recall for Safe\n",
    "        # TODO: f1 for Safe\n",
    "        # TODO: precision for Compliant\n",
    "        # TODO: Recall for Compliant\n",
    "        # TODO: f1 for Compliant\n",
    "        # TODO: precision for NonCompliant\n",
    "        # TODO: Recall for NonCompliant\n",
    "        # TODO: f1 for NonCompliant\n",
    "        \n",
    "        # TODO: print these more pretty-ly\n",
    "        print(precision_score(actual, results, average='weighted', labels=['Safe', 'Compliant', 'NonCompliant']))\n",
    "        print(recall_score(actual, results, average='weighted', labels=['Safe', 'Compliant', 'NonCompliant']))\n",
    "        print(f1_score(actual, results, average='weighted', labels=['Safe', 'Compliant', 'NonCompliant']))\n",
    "    \n",
    "    # TODO: print averages of stats across folds\n",
    "    # TODO: do the majority class baseline thing\n",
    "        \n",
    "        start += test_size\n",
    "    stats = sorted(stats, key = lambda x: x[3])\n",
    "    for s in stats:\n",
    "        print(s)\n",
    "ten_fold_validation()"
   ]
  },
  {
   "cell_type": "code",
   "execution_count": 49,
   "metadata": {},
   "outputs": [
    {
     "name": "stdout",
     "output_type": "stream",
     "text": [
      "(300.0, 2700.0)\n",
      "(600.0, 5400.0)\n",
      "(900.0, 8100.0)\n",
      "(1200.0, 10800.0)\n",
      "(1500.0, 13500.0)\n",
      "(1800.0, 16200.0)\n",
      "(2100.0, 18900.0)\n",
      "(2400.0, 21600.0)\n",
      "(2700.0, 24300.0)\n",
      "(3000.0, 27000.0)\n"
     ]
    }
   ],
   "source": []
  },
  {
   "cell_type": "code",
   "execution_count": null,
   "metadata": {},
   "outputs": [],
   "source": []
  }
 ],
 "metadata": {
  "kernelspec": {
   "display_name": "Python 3",
   "language": "python",
   "name": "python3"
  },
  "language_info": {
   "codemirror_mode": {
    "name": "ipython",
    "version": 3
   },
   "file_extension": ".py",
   "mimetype": "text/x-python",
   "name": "python",
   "nbconvert_exporter": "python",
   "pygments_lexer": "ipython3",
   "version": "3.4.3"
  }
 },
 "nbformat": 4,
 "nbformat_minor": 2
}
