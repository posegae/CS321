{
 "cells": [
  {
   "cell_type": "code",
   "execution_count": 19,
   "metadata": {
    "collapsed": true
   },
   "outputs": [],
   "source": [
    "FLOOR_MAPPING = {\n",
    "    'w1': ['w2', 'o1', 'o2', 'o4', 'o5'],\n",
    "    'w2': ['w1', 'w3', 'o2', 'o3'],\n",
    "    'w3': ['w2', 'w4', 'o3'],\n",
    "    'w4': ['w3', 'o4', 'o5', 'o6'],\n",
    "    'o1': ['w1', 'o6'],\n",
    "    'o2': ['w1', 'w2', 'o3', 'o4'],\n",
    "    'o3': ['w2', 'w3', 'o2', 'o4'],\n",
    "    'o4': ['w1', 'w4', 'o2', 'o3', 'o5' ],\n",
    "    'o5': ['w1', 'w4', 'o4', 'o6'],\n",
    "    'o6': ['w4', 'o1', 'o5']\n",
    "}\n",
    "\n",
    "class Floor:\n",
    "    def __init__(self, location_names):\n",
    "        self.locations = []\n",
    "        for loc_name in location_names:\n",
    "            self.locations.append(Location(loc_name))\n",
    "        self.name_to_loc_dict = {}\n",
    "        self.set_adjacents(FLOOR_MAPPING)\n",
    "        \n",
    "            \n",
    "    def set_adjacents(self, mapping):\n",
    "        for loc in self.locations:\n",
    "            self.name_to_loc_dict[loc.name] = loc\n",
    "            \n",
    "        for source_name, target_names in mapping.items():\n",
    "            source = self.name_to_loc_dict[source_name]\n",
    "            for target_name in target_names:\n",
    "                source.adjacent_locs.append(self.name_to_loc_dict[target_name])\n",
    "    \n",
    "    def all_floors_adjusted(self):\n",
    "        for loc in self.locations:\n",
    "            if not loc.temp_changed or not loc.hum_changed:\n",
    "                return False\n",
    "        return True\n",
    "    \n",
    "    \n",
    "        \n",
    "            \n",
    "\n",
    "class Location:\n",
    "    ''' Either a warehouse or an office.\n",
    "        name is something like o1 or w1\n",
    "        adjacent_locs is a list that stores actual other location object instances'''\n",
    "    def __init__(self, name):\n",
    "        self.name = name\n",
    "        if self.name[0] == 'w':\n",
    "            self.loc_type = 'warehouse'\n",
    "        else:\n",
    "            self.loc_type = 'office'\n",
    "        self.adjacent_locs = []\n",
    "        self.temp_changed = False\n",
    "        self.hum_changed = False\n",
    "    \n",
    "    def is_complete(self):\n",
    "        if self.temp_changed and self.hum_changed:\n",
    "            return True\n",
    "        else:\n",
    "            return False    \n",
    "        \n"
   ]
  },
  {
   "cell_type": "code",
   "execution_count": 20,
   "metadata": {
    "collapsed": true
   },
   "outputs": [],
   "source": [
    "location_names = ['w1', 'w2', 'w3', 'w4', 'o1', 'o2', 'o3', 'o4', 'o5', 'o6']\n",
    "floor = Floor(location_names)\n",
    "hm = HeatMiser(floor.name_to_loc_dict['w1'])"
   ]
  },
  {
   "cell_type": "code",
   "execution_count": null,
   "metadata": {
    "collapsed": true
   },
   "outputs": [],
   "source": []
  }
 ],
 "metadata": {
  "kernelspec": {
   "display_name": "Python 3",
   "language": "python",
   "name": "python3"
  },
  "language_info": {
   "codemirror_mode": {
    "name": "ipython",
    "version": 3
   },
   "file_extension": ".py",
   "mimetype": "text/x-python",
   "name": "python",
   "nbconvert_exporter": "python",
   "pygments_lexer": "ipython3",
   "version": "3.6.2"
  }
 },
 "nbformat": 4,
 "nbformat_minor": 2
}
